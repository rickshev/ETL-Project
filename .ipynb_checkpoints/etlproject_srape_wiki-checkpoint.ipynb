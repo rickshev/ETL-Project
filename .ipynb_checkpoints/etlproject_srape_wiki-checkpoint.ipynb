{
 "cells": [
  {
   "cell_type": "markdown",
   "metadata": {
    "slideshow": {
     "slide_type": "slide"
    }
   },
   "source": [
    "# Scraping with Pandas"
   ]
  },
  {
   "cell_type": "code",
   "execution_count": 1,
   "metadata": {
    "slideshow": {
     "slide_type": "slide"
    }
   },
   "outputs": [],
   "source": [
    "import pandas as pd\n",
    "from sqlalchemy import create_engine\n",
    "from sqlalchemy.dialects.postgresql import insert\n",
    "from sqlalchemy import table, column"
   ]
  },
  {
   "cell_type": "markdown",
   "metadata": {
    "slideshow": {
     "slide_type": "subslide"
    }
   },
   "source": [
    "We can use the `read_html` function in Pandas to automatically scrape any tabular data from a page."
   ]
  },
  {
   "cell_type": "code",
   "execution_count": 2,
   "metadata": {
    "slideshow": {
     "slide_type": "fragment"
    }
   },
   "outputs": [],
   "source": [
    "url1 = 'https://en.wikipedia.org/wiki/Animal_Crossing'\n",
    "url2 = 'https://en.wikipedia.org/wiki/Characters_in_the_Animal_Crossing_series'\n",
    "url3=  'https://animalcrossing.fandom.com/wiki/Category:Special_characters'"
   ]
  },
  {
   "cell_type": "code",
   "execution_count": 3,
   "metadata": {
    "slideshow": {
     "slide_type": "fragment"
    }
   },
   "outputs": [
    {
     "data": {
      "text/plain": [
       "[               Animal Crossing  \\\n",
       " 0  Animal Crossing series logo   \n",
       " 1                     Genre(s)   \n",
       " 2                 Developer(s)   \n",
       " 3                 Publisher(s)   \n",
       " 4                   Creator(s)   \n",
       " 5                  Platform(s)   \n",
       " 6                First release   \n",
       " 7               Latest release   \n",
       " 8                    Spin-offs   \n",
       " \n",
       "                                    Animal Crossing.1  \n",
       " 0                        Animal Crossing series logo  \n",
       " 1                                  Social simulation  \n",
       " 2                     Nintendo EADNintendo EPDNDcube  \n",
       " 3                                           Nintendo  \n",
       " 4                 Katsuya EguchiHisashi Nogami[1][2]  \n",
       " 5  Nintendo 64iQue PlayerGameCubeWiiWii UNintendo...  \n",
       " 6                      Animal CrossingApril 14, 2001  \n",
       " 7        Animal Crossing: New HorizonsMarch 20, 2020  \n",
       " 8      Happy Home DesignerAmiibo FestivalPocket Camp  ,\n",
       "        0                          1\n",
       " 0   2001            Animal Crossing\n",
       " 1   2002                        NaN\n",
       " 2   2003                        NaN\n",
       " 3   2004                        NaN\n",
       " 4   2005                 Wild World\n",
       " 5   2006                        NaN\n",
       " 6   2007                        NaN\n",
       " 7   2008                  City Folk\n",
       " 8   2009                        NaN\n",
       " 9   2010                        NaN\n",
       " 10  2011                        NaN\n",
       " 11  2012                   New Leaf\n",
       " 12  2013                        NaN\n",
       " 13  2014                        NaN\n",
       " 14  2015        Happy Home Designer\n",
       " 15  2015            Amiibo Festival\n",
       " 16  2016  New Leaf – Welcome Amiibo\n",
       " 17  2017                Pocket Camp\n",
       " 18  2018                        NaN\n",
       " 19  2019                        NaN\n",
       " 20  2020               New Horizons,\n",
       "                             Game  Year Units sold(in millions)  Metacritic\n",
       " 0                Animal Crossing  2001            2.32[36][37]  87/100[38]\n",
       " 1    Animal Crossing: Wild World  2005               11.75[39]  86/100[40]\n",
       " 2     Animal Crossing: City Folk  2008                3.38[41]  73/100[42]\n",
       " 3      Animal Crossing: New Leaf  2012               12.45[43]  88/100[44]\n",
       " 4  Animal Crossing: New Horizons  2020              13.41 [45]  90/100[46],\n",
       "   vteAnimal Crossing                               vteAnimal Crossing.1\n",
       " 0              Games  Main series Animal Crossing Wild World City Fo...\n",
       " 1        Main series  Animal Crossing Wild World City Folk New Leaf ...\n",
       " 2    Spin-off titles  Plaza Happy Home Designer Amiibo Festival Pock...\n",
       " 3        Accessories                        e-Reader cards Amiibo cards\n",
       " 4         Characters          Isabelle Mr. Resetti Tom Nook K.K. Slider\n",
       " 5             People  Katsuya Eguchi Aya Kyogoku Hisashi Nogami Taka...\n",
       " 6        Other media                                               Film\n",
       " 7            Related  Nintendo Land Mario Kart 8 Super Smash Bros. f...,\n",
       "                  0                                                  1\n",
       " 0      Main series  Animal Crossing Wild World City Folk New Leaf ...\n",
       " 1  Spin-off titles  Plaza Happy Home Designer Amiibo Festival Pock...\n",
       " 2      Accessories                        e-Reader cards Amiibo cards,\n",
       "   vteNintendo franchises                           vteNintendo franchises.1\n",
       " 0                  Mario  Super Mario Mario Kart Mario Party Dr. Mario D...\n",
       " 1                  Other  Animal Crossing Art Style Bit Generations BoxB...,\n",
       "                    0               1\n",
       " 0  Authority control  GND: 7535154-7]"
      ]
     },
     "execution_count": 3,
     "metadata": {},
     "output_type": "execute_result"
    }
   ],
   "source": [
    "tables = pd.read_html(url1)\n",
    "tables"
   ]
  },
  {
   "cell_type": "markdown",
   "metadata": {
    "slideshow": {
     "slide_type": "subslide"
    }
   },
   "source": [
    "What we get in return is a list of dataframes for any tabular data that Pandas found."
   ]
  },
  {
   "cell_type": "markdown",
   "metadata": {
    "slideshow": {
     "slide_type": "subslide"
    }
   },
   "source": [
    "We can slice off any of those dataframes that we want using normal indexing."
   ]
  },
  {
   "cell_type": "code",
   "execution_count": 5,
   "metadata": {
    "slideshow": {
     "slide_type": "fragment"
    }
   },
   "outputs": [
    {
     "data": {
      "text/html": [
       "<div>\n",
       "<style scoped>\n",
       "    .dataframe tbody tr th:only-of-type {\n",
       "        vertical-align: middle;\n",
       "    }\n",
       "\n",
       "    .dataframe tbody tr th {\n",
       "        vertical-align: top;\n",
       "    }\n",
       "\n",
       "    .dataframe thead th {\n",
       "        text-align: right;\n",
       "    }\n",
       "</style>\n",
       "<table border=\"1\" class=\"dataframe\">\n",
       "  <thead>\n",
       "    <tr style=\"text-align: right;\">\n",
       "      <th></th>\n",
       "      <th>Name</th>\n",
       "      <th>Year.</th>\n",
       "      <th>Units_Sold</th>\n",
       "      <th>Critic_Score</th>\n",
       "    </tr>\n",
       "  </thead>\n",
       "  <tbody>\n",
       "    <tr>\n",
       "      <th>0</th>\n",
       "      <td>Animal Crossing</td>\n",
       "      <td>2001</td>\n",
       "      <td>2.32[36][37]</td>\n",
       "      <td>87/100[38]</td>\n",
       "    </tr>\n",
       "    <tr>\n",
       "      <th>1</th>\n",
       "      <td>Animal Crossing: Wild World</td>\n",
       "      <td>2005</td>\n",
       "      <td>11.75[39]</td>\n",
       "      <td>86/100[40]</td>\n",
       "    </tr>\n",
       "    <tr>\n",
       "      <th>2</th>\n",
       "      <td>Animal Crossing: City Folk</td>\n",
       "      <td>2008</td>\n",
       "      <td>3.38[41]</td>\n",
       "      <td>73/100[42]</td>\n",
       "    </tr>\n",
       "    <tr>\n",
       "      <th>3</th>\n",
       "      <td>Animal Crossing: New Leaf</td>\n",
       "      <td>2012</td>\n",
       "      <td>12.45[43]</td>\n",
       "      <td>88/100[44]</td>\n",
       "    </tr>\n",
       "    <tr>\n",
       "      <th>4</th>\n",
       "      <td>Animal Crossing: New Horizons</td>\n",
       "      <td>2020</td>\n",
       "      <td>13.41 [45]</td>\n",
       "      <td>90/100[46]</td>\n",
       "    </tr>\n",
       "  </tbody>\n",
       "</table>\n",
       "</div>"
      ],
      "text/plain": [
       "                            Name  Year.    Units_Sold Critic_Score\n",
       "0                Animal Crossing   2001  2.32[36][37]   87/100[38]\n",
       "1    Animal Crossing: Wild World   2005     11.75[39]   86/100[40]\n",
       "2     Animal Crossing: City Folk   2008      3.38[41]   73/100[42]\n",
       "3      Animal Crossing: New Leaf   2012     12.45[43]   88/100[44]\n",
       "4  Animal Crossing: New Horizons   2020    13.41 [45]   90/100[46]"
      ]
     },
     "execution_count": 5,
     "metadata": {},
     "output_type": "execute_result"
    }
   ],
   "source": [
    "Sales_summary = tables[2]\n",
    "\n",
    "Sales_summary.columns = ['Name', 'Year.', 'Units_Sold', 'Critic_Score']\n",
    "Sales_summary.head()"
   ]
  },
  {
   "cell_type": "markdown",
   "metadata": {
    "slideshow": {
     "slide_type": "subslide"
    }
   },
   "source": [
    "Cleanup of extra rows"
   ]
  },
  {
   "cell_type": "code",
   "execution_count": null,
   "metadata": {},
   "outputs": [],
   "source": [
    "tables1 = pd.read_html(url2)\n",
    "tables1"
   ]
  },
  {
   "cell_type": "code",
   "execution_count": null,
   "metadata": {
    "slideshow": {
     "slide_type": "fragment"
    }
   },
   "outputs": [],
   "source": [
    "Animal_Forest = tables1[0]\n",
    "Wild_World = tables1[1]\n",
    "City_Folk = tables1[2]\n",
    "New_Leaf = tables1[3]\n",
    "New_Horizons = tables1[4]\n",
    "\n",
    "Animal_Forest.columns = ['Character', 'Orginal_Name.', 'Species', 'Description']\n",
    "Wild_World.columns = ['Character', 'Orginal_Name.', 'Species', 'Description']\n",
    "City_Folk.columns = ['Character', 'Orginal_Name.', 'Species', 'Description']\n",
    "New_Leaf.columns = ['Character', 'Orginal_Name.', 'Species', 'Description']\n",
    "New_Horizons.columns = ['Character', 'Orginal_Name.', 'Species', 'Description']\n",
    "\n",
    "Animal_Forest['Name']='Animal_Forest'\n",
    "Wild_World['Name']='Wild_World'\n",
    "City_Folk['Name']='City_Folk'\n",
    "New_Leaf['Name']='New_Leaf'\n",
    "New_Horizons['Name']='New_Horizons'\n",
    "\n",
    "characters=pd.concat([Animal_Forest, Wild_World,City_Folk,New_Leaf,New_Horizons])\n",
    "characters\n"
   ]
  },
  {
   "cell_type": "markdown",
   "metadata": {
    "slideshow": {
     "slide_type": "subslide"
    }
   },
   "source": [
    "Set the index to the `State` column"
   ]
  },
  {
   "cell_type": "code",
   "execution_count": null,
   "metadata": {
    "slideshow": {
     "slide_type": "fragment"
    }
   },
   "outputs": [],
   "source": [
    "tables = pd.read_html(url3)\n",
    "Special_Character = tables[0]\n",
    "tables\n",
    "Special_Character.columns = ['Name', 'Image.', 'Species', 'Birthday','service']\n",
    "Special_Character=Special_Character[['Name',  'Species', 'Birthday','service']]\n",
    "Special_Character"
   ]
  },
  {
   "cell_type": "code",
   "execution_count": null,
   "metadata": {},
   "outputs": [],
   "source": [
    "rds_connection_string = \"postgress:Shri@123@localhost:5432/animal_crossing_db\"\n",
    "rds_connection_string\n",
    "engine = create_engine(f'postgresql://{rds_connection_string}')"
   ]
  },
  {
   "cell_type": "code",
   "execution_count": null,
   "metadata": {},
   "outputs": [],
   "source": [
    "engine.table_names()"
   ]
  },
  {
   "cell_type": "code",
   "execution_count": null,
   "metadata": {},
   "outputs": [],
   "source": [
    "Sales_summary.to_sql(name='Sales_summary', con=engine, if_exists='append', index=False)"
   ]
  },
  {
   "cell_type": "code",
   "execution_count": null,
   "metadata": {},
   "outputs": [],
   "source": [
    "Special_Character.to_sql(name='special_character', con=engine, if_exists='append', index=False)"
   ]
  },
  {
   "cell_type": "code",
   "execution_count": null,
   "metadata": {},
   "outputs": [],
   "source": [
    "character.to_sql(name='character', con=engine, if_exists='append', index=False)"
   ]
  }
 ],
 "metadata": {
  "kernelspec": {
   "display_name": "Python 3",
   "language": "python",
   "name": "python3"
  },
  "language_info": {
   "codemirror_mode": {
    "name": "ipython",
    "version": 3
   },
   "file_extension": ".py",
   "mimetype": "text/x-python",
   "name": "python",
   "nbconvert_exporter": "python",
   "pygments_lexer": "ipython3",
   "version": "3.7.2"
  },
  "varInspector": {
   "cols": {
    "lenName": 16,
    "lenType": 16,
    "lenVar": 40
   },
   "kernels_config": {
    "python": {
     "delete_cmd_postfix": "",
     "delete_cmd_prefix": "del ",
     "library": "var_list.py",
     "varRefreshCmd": "print(var_dic_list())"
    },
    "r": {
     "delete_cmd_postfix": ") ",
     "delete_cmd_prefix": "rm(",
     "library": "var_list.r",
     "varRefreshCmd": "cat(var_dic_list()) "
    }
   },
   "types_to_exclude": [
    "module",
    "function",
    "builtin_function_or_method",
    "instance",
    "_Feature"
   ],
   "window_display": false
  }
 },
 "nbformat": 4,
 "nbformat_minor": 2
}
